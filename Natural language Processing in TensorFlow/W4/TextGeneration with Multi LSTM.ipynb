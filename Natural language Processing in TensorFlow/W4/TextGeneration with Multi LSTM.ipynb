{
  "nbformat": 4,
  "nbformat_minor": 0,
  "metadata": {
    "accelerator": "GPU",
    "colab": {
      "name": "NLP_Week4_Exercise_Shakespeare_Question.ipynb",
      "provenance": [],
      "toc_visible": true
    },
    "kernelspec": {
      "display_name": "Python 3",
      "name": "python3"
    }
  },
  "cells": [
    {
      "cell_type": "code",
      "metadata": {
        "id": "zX4Kg8DUTKWO"
      },
      "source": [
        "#@title Licensed under the Apache License, Version 2.0 (the \"License\");\n",
        "# you may not use this file except in compliance with the License.\n",
        "# You may obtain a copy of the License at\n",
        "#\n",
        "# https://www.apache.org/licenses/LICENSE-2.0\n",
        "#\n",
        "# Unless required by applicable law or agreed to in writing, software\n",
        "# distributed under the License is distributed on an \"AS IS\" BASIS,\n",
        "# WITHOUT WARRANTIES OR CONDITIONS OF ANY KIND, either express or implied.\n",
        "# See the License for the specific language governing permissions and\n",
        "# limitations under the License."
      ],
      "execution_count": null,
      "outputs": []
    },
    {
      "cell_type": "code",
      "metadata": {
        "id": "BOwsuGQQY9OL"
      },
      "source": [
        "from tensorflow.keras.preprocessing.sequence import pad_sequences\n",
        "from tensorflow.keras.layers import Embedding, LSTM, Dense, Dropout, Bidirectional\n",
        "from tensorflow.keras.preprocessing.text import Tokenizer\n",
        "from tensorflow.keras.models import Sequential\n",
        "from tensorflow.keras.optimizers import Adam\n",
        "### YOUR CODE HERE\n",
        "# Figure out how to import regularizers\n",
        "from tensorflow.keras import regularizers\n",
        "\n",
        "###\n",
        "import tensorflow.keras.utils as ku \n",
        "import numpy as np "
      ],
      "execution_count": 1,
      "outputs": []
    },
    {
      "cell_type": "code",
      "metadata": {
        "colab": {
          "base_uri": "https://localhost:8080/"
        },
        "id": "PRnDnCW-Z7qv",
        "outputId": "0b2db5c9-22ea-4731-d809-f7162ebcc293"
      },
      "source": [
        "tokenizer = Tokenizer()\n",
        "!wget --no-check-certificate \\\n",
        "    https://storage.googleapis.com/laurencemoroney-blog.appspot.com/sonnets.txt \\\n",
        "    -O /tmp/sonnets.txt\n",
        "data = open('/tmp/sonnets.txt').read()\n",
        "\n",
        "corpus = data.lower().split(\"\\n\")\n",
        "\n",
        "\n",
        "tokenizer.fit_on_texts(corpus)\n",
        "total_words = len(tokenizer.word_index) + 1\n",
        "\n",
        "# create input sequences using list of tokens\n",
        "input_sequences = []\n",
        "for line in corpus:\n",
        "\ttoken_list = tokenizer.texts_to_sequences([line])[0]\n",
        "\tfor i in range(1, len(token_list)):\n",
        "\t\tn_gram_sequence = token_list[:i+1]\n",
        "\t\tinput_sequences.append(n_gram_sequence)\n",
        "\n",
        "\n",
        "# pad sequences \n",
        "max_sequence_len = max([len(x) for x in input_sequences])\n",
        "input_sequences = np.array(pad_sequences(input_sequences, maxlen=max_sequence_len, padding='pre'))\n",
        "\n",
        "# create predictors and label\n",
        "predictors, label = input_sequences[:,:-1],input_sequences[:,-1]\n",
        "\n",
        "label = ku.to_categorical(label, num_classes=total_words)"
      ],
      "execution_count": 2,
      "outputs": [
        {
          "output_type": "stream",
          "text": [
            "--2021-04-01 17:46:27--  https://storage.googleapis.com/laurencemoroney-blog.appspot.com/sonnets.txt\n",
            "Resolving storage.googleapis.com (storage.googleapis.com)... 172.217.13.240, 172.217.15.80, 172.253.122.128, ...\n",
            "Connecting to storage.googleapis.com (storage.googleapis.com)|172.217.13.240|:443... connected.\n",
            "HTTP request sent, awaiting response... 200 OK\n",
            "Length: 93578 (91K) [text/plain]\n",
            "Saving to: ‘/tmp/sonnets.txt’\n",
            "\n",
            "\r/tmp/sonnets.txt      0%[                    ]       0  --.-KB/s               \r/tmp/sonnets.txt    100%[===================>]  91.38K  --.-KB/s    in 0.001s  \n",
            "\n",
            "2021-04-01 17:46:27 (137 MB/s) - ‘/tmp/sonnets.txt’ saved [93578/93578]\n",
            "\n"
          ],
          "name": "stdout"
        }
      ]
    },
    {
      "cell_type": "code",
      "metadata": {
        "colab": {
          "base_uri": "https://localhost:8080/"
        },
        "id": "w9vH8Y59ajYL",
        "outputId": "97dfc44f-6783-4eb0-ef05-e65c988ca24f"
      },
      "source": [
        "model = Sequential()\n",
        "model.add(Embedding(total_words, 100, input_length=max_sequence_len-1)) # Your Embedding Layer)\n",
        "model.add(Bidirectional(LSTM(150,return_sequences = True))) # An LSTM Layer)\n",
        "model.add(Dropout(0.2)) # A dropout layer)\n",
        "model.add(Bidirectional(LSTM(100))) # Another LSTM Layer)\n",
        "model.add(Dense(total_words, activation='relu', kernel_regularizer=regularizers.l2(.001))) # A Dense Layer including regularizers)\n",
        "model.add(Dense(total_words, activation= 'softmax')) # A Dense Layer)\n",
        "# Pick an optimizer\n",
        "adam = Adam(lr=.01)\n",
        "model.compile(loss='categorical_crossentropy', metrics=['acc'], optimizer=adam) # Pick a loss function and an optimizer)\n",
        "print(model.summary())\n"
      ],
      "execution_count": 8,
      "outputs": [
        {
          "output_type": "stream",
          "text": [
            "Model: \"sequential\"\n",
            "_________________________________________________________________\n",
            "Layer (type)                 Output Shape              Param #   \n",
            "=================================================================\n",
            "embedding (Embedding)        (None, 10, 100)           321100    \n",
            "_________________________________________________________________\n",
            "bidirectional (Bidirectional (None, 10, 300)           301200    \n",
            "_________________________________________________________________\n",
            "dropout (Dropout)            (None, 10, 300)           0         \n",
            "_________________________________________________________________\n",
            "bidirectional_1 (Bidirection (None, 200)               320800    \n",
            "_________________________________________________________________\n",
            "dense (Dense)                (None, 3211)              645411    \n",
            "_________________________________________________________________\n",
            "dense_1 (Dense)              (None, 3211)              10313732  \n",
            "=================================================================\n",
            "Total params: 11,902,243\n",
            "Trainable params: 11,902,243\n",
            "Non-trainable params: 0\n",
            "_________________________________________________________________\n",
            "None\n"
          ],
          "name": "stdout"
        }
      ]
    },
    {
      "cell_type": "code",
      "metadata": {
        "colab": {
          "base_uri": "https://localhost:8080/"
        },
        "id": "AIg2f1HBxqof",
        "outputId": "34234d14-feae-4b5a-9a2d-c5d0648b6ed3"
      },
      "source": [
        " history = model.fit(predictors, label, epochs=100, verbose=1)"
      ],
      "execution_count": 9,
      "outputs": [
        {
          "output_type": "stream",
          "text": [
            "Epoch 1/100\n",
            "484/484 [==============================] - 42s 15ms/step - loss: 7.0323 - acc: 0.0216\n",
            "Epoch 2/100\n",
            "484/484 [==============================] - 7s 14ms/step - loss: 6.4862 - acc: 0.0211\n",
            "Epoch 3/100\n",
            "484/484 [==============================] - 7s 14ms/step - loss: 6.3978 - acc: 0.0270\n",
            "Epoch 4/100\n",
            "484/484 [==============================] - 7s 14ms/step - loss: 6.3184 - acc: 0.0305\n",
            "Epoch 5/100\n",
            "484/484 [==============================] - 7s 14ms/step - loss: 6.2853 - acc: 0.0304\n",
            "Epoch 6/100\n",
            "484/484 [==============================] - 7s 14ms/step - loss: 6.2212 - acc: 0.0332\n",
            "Epoch 7/100\n",
            "484/484 [==============================] - 7s 14ms/step - loss: 6.1726 - acc: 0.0349\n",
            "Epoch 8/100\n",
            "484/484 [==============================] - 7s 14ms/step - loss: 6.1689 - acc: 0.0376\n",
            "Epoch 9/100\n",
            "484/484 [==============================] - 7s 14ms/step - loss: 6.1483 - acc: 0.0396\n",
            "Epoch 10/100\n",
            "484/484 [==============================] - 7s 14ms/step - loss: 6.0999 - acc: 0.0392\n",
            "Epoch 11/100\n",
            "484/484 [==============================] - 7s 14ms/step - loss: 6.0975 - acc: 0.0424\n",
            "Epoch 12/100\n",
            "484/484 [==============================] - 7s 14ms/step - loss: 6.0443 - acc: 0.0423\n",
            "Epoch 13/100\n",
            "484/484 [==============================] - 7s 14ms/step - loss: 6.0113 - acc: 0.0461\n",
            "Epoch 14/100\n",
            "484/484 [==============================] - 7s 14ms/step - loss: 5.9813 - acc: 0.0468\n",
            "Epoch 15/100\n",
            "484/484 [==============================] - 7s 14ms/step - loss: 5.9121 - acc: 0.0497\n",
            "Epoch 16/100\n",
            "484/484 [==============================] - 7s 14ms/step - loss: 5.8875 - acc: 0.0484\n",
            "Epoch 17/100\n",
            "484/484 [==============================] - 7s 13ms/step - loss: 5.8599 - acc: 0.0505\n",
            "Epoch 18/100\n",
            "484/484 [==============================] - 7s 14ms/step - loss: 5.8411 - acc: 0.0506\n",
            "Epoch 19/100\n",
            "484/484 [==============================] - 7s 14ms/step - loss: 5.7940 - acc: 0.0539\n",
            "Epoch 20/100\n",
            "484/484 [==============================] - 7s 14ms/step - loss: 5.7704 - acc: 0.0505\n",
            "Epoch 21/100\n",
            "484/484 [==============================] - 7s 14ms/step - loss: 5.7484 - acc: 0.0549\n",
            "Epoch 22/100\n",
            "484/484 [==============================] - 7s 14ms/step - loss: 5.7513 - acc: 0.0543\n",
            "Epoch 23/100\n",
            "484/484 [==============================] - 7s 14ms/step - loss: 5.6976 - acc: 0.0586\n",
            "Epoch 24/100\n",
            "484/484 [==============================] - 7s 14ms/step - loss: 5.7035 - acc: 0.0540\n",
            "Epoch 25/100\n",
            "484/484 [==============================] - 7s 14ms/step - loss: 5.6765 - acc: 0.0574\n",
            "Epoch 26/100\n",
            "484/484 [==============================] - 7s 14ms/step - loss: 5.6392 - acc: 0.0578\n",
            "Epoch 27/100\n",
            "484/484 [==============================] - 7s 14ms/step - loss: 5.6412 - acc: 0.0575\n",
            "Epoch 28/100\n",
            "484/484 [==============================] - 7s 14ms/step - loss: 5.6351 - acc: 0.0531\n",
            "Epoch 29/100\n",
            "484/484 [==============================] - 7s 14ms/step - loss: 5.5957 - acc: 0.0594\n",
            "Epoch 30/100\n",
            "484/484 [==============================] - 7s 14ms/step - loss: 5.5923 - acc: 0.0572\n",
            "Epoch 31/100\n",
            "484/484 [==============================] - 7s 14ms/step - loss: 5.5961 - acc: 0.0600\n",
            "Epoch 32/100\n",
            "484/484 [==============================] - 7s 14ms/step - loss: 5.5665 - acc: 0.0611\n",
            "Epoch 33/100\n",
            "484/484 [==============================] - 7s 14ms/step - loss: 5.5425 - acc: 0.0605\n",
            "Epoch 34/100\n",
            "484/484 [==============================] - 7s 13ms/step - loss: 5.5084 - acc: 0.0645\n",
            "Epoch 35/100\n",
            "484/484 [==============================] - 7s 14ms/step - loss: 5.5246 - acc: 0.0550\n",
            "Epoch 36/100\n",
            "484/484 [==============================] - 7s 14ms/step - loss: 5.5132 - acc: 0.0602\n",
            "Epoch 37/100\n",
            "484/484 [==============================] - 7s 14ms/step - loss: 5.4939 - acc: 0.0614\n",
            "Epoch 38/100\n",
            "484/484 [==============================] - 7s 14ms/step - loss: 5.4842 - acc: 0.0612\n",
            "Epoch 39/100\n",
            "484/484 [==============================] - 7s 14ms/step - loss: 5.4871 - acc: 0.0598\n",
            "Epoch 40/100\n",
            "484/484 [==============================] - 7s 14ms/step - loss: 5.4809 - acc: 0.0622\n",
            "Epoch 41/100\n",
            "484/484 [==============================] - 7s 14ms/step - loss: 5.4685 - acc: 0.0597\n",
            "Epoch 42/100\n",
            "484/484 [==============================] - 7s 14ms/step - loss: 5.4607 - acc: 0.0610\n",
            "Epoch 43/100\n",
            "484/484 [==============================] - 7s 14ms/step - loss: 5.4364 - acc: 0.0595\n",
            "Epoch 44/100\n",
            "484/484 [==============================] - 7s 13ms/step - loss: 5.4592 - acc: 0.0619\n",
            "Epoch 45/100\n",
            "484/484 [==============================] - 7s 14ms/step - loss: 5.4527 - acc: 0.0628\n",
            "Epoch 46/100\n",
            "484/484 [==============================] - 7s 14ms/step - loss: 5.4407 - acc: 0.0623\n",
            "Epoch 47/100\n",
            "484/484 [==============================] - 7s 14ms/step - loss: 5.4536 - acc: 0.0649\n",
            "Epoch 48/100\n",
            "484/484 [==============================] - 7s 14ms/step - loss: 5.4259 - acc: 0.0642\n",
            "Epoch 49/100\n",
            "484/484 [==============================] - 7s 14ms/step - loss: 5.4764 - acc: 0.0580\n",
            "Epoch 50/100\n",
            "484/484 [==============================] - 7s 14ms/step - loss: 5.4340 - acc: 0.0608\n",
            "Epoch 51/100\n",
            "484/484 [==============================] - 7s 14ms/step - loss: 5.3976 - acc: 0.0639\n",
            "Epoch 52/100\n",
            "484/484 [==============================] - 7s 14ms/step - loss: 5.3873 - acc: 0.0657\n",
            "Epoch 53/100\n",
            "484/484 [==============================] - 7s 14ms/step - loss: 5.3964 - acc: 0.0632\n",
            "Epoch 54/100\n",
            "484/484 [==============================] - 7s 14ms/step - loss: 5.4131 - acc: 0.0639\n",
            "Epoch 55/100\n",
            "484/484 [==============================] - 7s 14ms/step - loss: 5.4241 - acc: 0.0619\n",
            "Epoch 56/100\n",
            "484/484 [==============================] - 7s 14ms/step - loss: 5.3856 - acc: 0.0603\n",
            "Epoch 57/100\n",
            "484/484 [==============================] - 7s 14ms/step - loss: 5.3702 - acc: 0.0623\n",
            "Epoch 58/100\n",
            "484/484 [==============================] - 7s 14ms/step - loss: 5.4075 - acc: 0.0648\n",
            "Epoch 59/100\n",
            "484/484 [==============================] - 7s 14ms/step - loss: 5.3870 - acc: 0.0648\n",
            "Epoch 60/100\n",
            "484/484 [==============================] - 6s 13ms/step - loss: 5.4178 - acc: 0.0651\n",
            "Epoch 61/100\n",
            "484/484 [==============================] - 7s 14ms/step - loss: 5.4058 - acc: 0.0608\n",
            "Epoch 62/100\n",
            "484/484 [==============================] - 7s 14ms/step - loss: 5.3828 - acc: 0.0619\n",
            "Epoch 63/100\n",
            "484/484 [==============================] - 7s 14ms/step - loss: 5.3786 - acc: 0.0638\n",
            "Epoch 64/100\n",
            "484/484 [==============================] - 7s 14ms/step - loss: 5.3621 - acc: 0.0671\n",
            "Epoch 65/100\n",
            "484/484 [==============================] - 7s 14ms/step - loss: 5.3677 - acc: 0.0610\n",
            "Epoch 66/100\n",
            "484/484 [==============================] - 7s 14ms/step - loss: 5.3663 - acc: 0.0659\n",
            "Epoch 67/100\n",
            "484/484 [==============================] - 7s 14ms/step - loss: 5.3746 - acc: 0.0664\n",
            "Epoch 68/100\n",
            "484/484 [==============================] - 7s 14ms/step - loss: 5.3528 - acc: 0.0654\n",
            "Epoch 69/100\n",
            "484/484 [==============================] - 7s 14ms/step - loss: 5.3701 - acc: 0.0666\n",
            "Epoch 70/100\n",
            "484/484 [==============================] - 7s 14ms/step - loss: 5.3748 - acc: 0.0676\n",
            "Epoch 71/100\n",
            "484/484 [==============================] - 7s 14ms/step - loss: 5.3625 - acc: 0.0674\n",
            "Epoch 72/100\n",
            "484/484 [==============================] - 7s 14ms/step - loss: 5.3739 - acc: 0.0643\n",
            "Epoch 73/100\n",
            "484/484 [==============================] - 7s 14ms/step - loss: 5.3802 - acc: 0.0607\n",
            "Epoch 74/100\n",
            "484/484 [==============================] - 7s 13ms/step - loss: 5.3492 - acc: 0.0657\n",
            "Epoch 75/100\n",
            "484/484 [==============================] - 7s 14ms/step - loss: 5.3590 - acc: 0.0621\n",
            "Epoch 76/100\n",
            "484/484 [==============================] - 7s 14ms/step - loss: 5.3452 - acc: 0.0625\n",
            "Epoch 77/100\n",
            "484/484 [==============================] - 7s 14ms/step - loss: 5.3848 - acc: 0.0611\n",
            "Epoch 78/100\n",
            "484/484 [==============================] - 7s 14ms/step - loss: 5.3476 - acc: 0.0647\n",
            "Epoch 79/100\n",
            "484/484 [==============================] - 7s 14ms/step - loss: 5.3569 - acc: 0.0650\n",
            "Epoch 80/100\n",
            "484/484 [==============================] - 7s 14ms/step - loss: 5.3321 - acc: 0.0655\n",
            "Epoch 81/100\n",
            "484/484 [==============================] - 7s 14ms/step - loss: 5.3387 - acc: 0.0672\n",
            "Epoch 82/100\n",
            "484/484 [==============================] - 7s 14ms/step - loss: 5.3384 - acc: 0.0715\n",
            "Epoch 83/100\n",
            "484/484 [==============================] - 7s 14ms/step - loss: 5.3680 - acc: 0.0667\n",
            "Epoch 84/100\n",
            "484/484 [==============================] - 7s 14ms/step - loss: 5.3613 - acc: 0.0654\n",
            "Epoch 85/100\n",
            "484/484 [==============================] - 7s 14ms/step - loss: 5.3282 - acc: 0.0647\n",
            "Epoch 86/100\n",
            "484/484 [==============================] - 7s 14ms/step - loss: 5.3275 - acc: 0.0632\n",
            "Epoch 87/100\n",
            "484/484 [==============================] - 7s 14ms/step - loss: 5.3369 - acc: 0.0664\n",
            "Epoch 88/100\n",
            "484/484 [==============================] - 7s 14ms/step - loss: 5.3414 - acc: 0.0618\n",
            "Epoch 89/100\n",
            "484/484 [==============================] - 7s 13ms/step - loss: 5.3432 - acc: 0.0681\n",
            "Epoch 90/100\n",
            "484/484 [==============================] - 7s 14ms/step - loss: 5.3445 - acc: 0.0658\n",
            "Epoch 91/100\n",
            "484/484 [==============================] - 7s 14ms/step - loss: 5.3383 - acc: 0.0635\n",
            "Epoch 92/100\n",
            "484/484 [==============================] - 7s 14ms/step - loss: 5.3617 - acc: 0.0651\n",
            "Epoch 93/100\n",
            "484/484 [==============================] - 7s 14ms/step - loss: 5.3495 - acc: 0.0656\n",
            "Epoch 94/100\n",
            "484/484 [==============================] - 7s 14ms/step - loss: 5.3631 - acc: 0.0628\n",
            "Epoch 95/100\n",
            "484/484 [==============================] - 7s 14ms/step - loss: 5.3450 - acc: 0.0628\n",
            "Epoch 96/100\n",
            "484/484 [==============================] - 7s 14ms/step - loss: 5.3605 - acc: 0.0614\n",
            "Epoch 97/100\n",
            "484/484 [==============================] - 7s 14ms/step - loss: 5.3627 - acc: 0.0664\n",
            "Epoch 98/100\n",
            "484/484 [==============================] - 7s 14ms/step - loss: 5.3607 - acc: 0.0617\n",
            "Epoch 99/100\n",
            "484/484 [==============================] - 7s 14ms/step - loss: 5.3309 - acc: 0.0651\n",
            "Epoch 100/100\n",
            "484/484 [==============================] - 7s 14ms/step - loss: 5.3608 - acc: 0.0629\n"
          ],
          "name": "stdout"
        }
      ]
    },
    {
      "cell_type": "code",
      "metadata": {
        "colab": {
          "base_uri": "https://localhost:8080/",
          "height": 545
        },
        "id": "1fXTEO3GJ282",
        "outputId": "e20eb3ff-b3fe-4066-8020-aa0d9405d669"
      },
      "source": [
        "import matplotlib.pyplot as plt\n",
        "acc = history.history['acc']\n",
        "loss = history.history['loss']\n",
        "\n",
        "epochs = range(len(acc))\n",
        "\n",
        "plt.plot(epochs, acc, 'b', label='Training accuracy')\n",
        "plt.title('Training accuracy')\n",
        "\n",
        "plt.figure()\n",
        "\n",
        "plt.plot(epochs, loss, 'b', label='Training Loss')\n",
        "plt.title('Training loss')\n",
        "plt.legend()\n",
        "\n",
        "plt.show()"
      ],
      "execution_count": 11,
      "outputs": [
        {
          "output_type": "display_data",
          "data": {
            "image/png": "[encoded data removed]",
            "text/plain": [
              "<Figure size 432x288 with 1 Axes>"
            ]
          },
          "metadata": {
            "tags": [],
            "needs_background": "light"
          }
        },
        {
          "output_type": "display_data",
          "data": {
            "image/png": "[encoded data removed]",
            "text/plain": [
              "<Figure size 432x288 with 1 Axes>"
            ]
          },
          "metadata": {
            "tags": [],
            "needs_background": "light"
          }
        }
      ]
    },
    {
      "cell_type": "code",
      "metadata": {
        "colab": {
          "base_uri": "https://localhost:8080/"
        },
        "id": "6Vc6PHgxa6Hm",
        "outputId": "77a43dfd-8f05-4202-eb9e-165391371497"
      },
      "source": [
        "seed_text = \"Help me Obi Wan Kenobi, you're my only hope\"\n",
        "next_words = 10\n",
        "  \n",
        "for _ in range(next_words):\n",
        "\ttoken_list = tokenizer.texts_to_sequences([seed_text])[0]\n",
        "\ttoken_list = pad_sequences([token_list], maxlen=max_sequence_len-1, padding='pre')\n",
        "\tpredicted = np.argmax(model.predict(token_list), axis=-1)\n",
        "\toutput_word = \"\"\n",
        "\tfor word, index in tokenizer.word_index.items():\n",
        "\t\tif index == predicted:\n",
        "\t\t\toutput_word = word\n",
        "\t\t\tbreak\n",
        "\tseed_text += \" \" + output_word\n",
        "print(seed_text)"
      ],
      "execution_count": 14,
      "outputs": [
        {
          "output_type": "stream",
          "text": [
            "Help me Obi Wan Kenobi, you're my only hope be my love and i have ' be be '\n"
          ],
          "name": "stdout"
        }
      ]
    },
    {
      "cell_type": "code",
      "metadata": {
        "id": "vHE-Q4WdoPjs"
      },
      "source": [
        ""
      ],
      "execution_count": null,
      "outputs": []
    }
  ]
}