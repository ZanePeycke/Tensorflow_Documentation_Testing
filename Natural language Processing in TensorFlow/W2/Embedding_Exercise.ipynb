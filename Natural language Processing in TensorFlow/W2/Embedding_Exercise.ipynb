{
  "nbformat": 4,
  "nbformat_minor": 0,
  "metadata": {
    "colab": {
      "name": "Embedding Exercise.ipynb",
      "provenance": [],
      "collapsed_sections": []
    },
    "kernelspec": {
      "name": "python3",
      "display_name": "Python 3"
    },
    "language_info": {
      "name": "python"
    },
    "accelerator": "GPU"
  },
  "cells": [
    {
      "cell_type": "code",
      "metadata": {
        "id": "FIEfIr03eHmR"
      },
      "source": [
        "import tensorflow as tf\n",
        "import json\n",
        "import numpy as np\n",
        "import matplotlib.pyplot as plt\n",
        "\n",
        "from tensorflow.keras.preprocessing.text import Tokenizer\n",
        "from tensorflow.keras.preprocessing.sequence import pad_sequences"
      ],
      "execution_count": 14,
      "outputs": []
    },
    {
      "cell_type": "code",
      "metadata": {
        "id": "-6QW1k0peZp6"
      },
      "source": [
        "# Hyperparams we are going to tweak through testing\n",
        "\n",
        "vocab_size = 10000\n",
        "embedding_dim = 16\n",
        "max_length = 100\n",
        "trunc_type = 'post'\n",
        "padding_type = 'post'\n",
        "oov_tok = '<OOV>'\n",
        "training_size = 20000"
      ],
      "execution_count": 3,
      "outputs": []
    },
    {
      "cell_type": "code",
      "metadata": {
        "colab": {
          "base_uri": "https://localhost:8080/"
        },
        "id": "7VPq7n2KettG",
        "outputId": "782405a2-03c8-442a-ccf0-69945d45e883"
      },
      "source": [
        "!wget --no-check-certificate \\\n",
        "    https://storage.googleapis.com/laurencemoroney-blog.appspot.com/sarcasm.json \\\n",
        "    -O /tmp/sarcasm.json\n"
      ],
      "execution_count": 4,
      "outputs": [
        {
          "output_type": "stream",
          "text": [
            "--2021-03-30 18:52:33--  https://storage.googleapis.com/laurencemoroney-blog.appspot.com/sarcasm.json\n",
            "Resolving storage.googleapis.com (storage.googleapis.com)... 172.217.7.176, 172.217.13.240, 172.217.13.80, ...\n",
            "Connecting to storage.googleapis.com (storage.googleapis.com)|172.217.7.176|:443... connected.\n",
            "HTTP request sent, awaiting response... 200 OK\n",
            "Length: 5643545 (5.4M) [application/json]\n",
            "Saving to: ‘/tmp/sarcasm.json’\n",
            "\n",
            "\r/tmp/sarcasm.json     0%[                    ]       0  --.-KB/s               \r/tmp/sarcasm.json   100%[===================>]   5.38M  --.-KB/s    in 0.02s   \n",
            "\n",
            "2021-03-30 18:52:33 (289 MB/s) - ‘/tmp/sarcasm.json’ saved [5643545/5643545]\n",
            "\n"
          ],
          "name": "stdout"
        }
      ]
    },
    {
      "cell_type": "code",
      "metadata": {
        "id": "AcnTKGMhevH1"
      },
      "source": [
        "with open('/tmp/sarcasm.json', 'r') as f:\n",
        "  datastore = json.load(f)\n",
        "\n",
        "sentences = []\n",
        "labels = []\n",
        "\n",
        "for item in datastore:\n",
        "  sentences.append(item['headline'])\n",
        "  labels.append(item['is_sarcastic'])\n"
      ],
      "execution_count": 6,
      "outputs": []
    },
    {
      "cell_type": "code",
      "metadata": {
        "id": "jyyrYc5je-uo"
      },
      "source": [
        "training_sentences = sentences[0:training_size]\n",
        "testing_sentences = sentences[training_size:]\n",
        "\n",
        "training_labels = labels[0:training_size]\n",
        "testing_labels = labels[training_size:]\n"
      ],
      "execution_count": 7,
      "outputs": []
    },
    {
      "cell_type": "code",
      "metadata": {
        "id": "XP8R3u1VfmTa"
      },
      "source": [
        "tokenizer = Tokenizer(num_words=vocab_size, oov_token=oov_tok)\n",
        "tokenizer.fit_on_texts(training_sentences)\n",
        "\n",
        "word_index = tokenizer.word_index\n",
        "\n",
        "training_sequences = tokenizer.texts_to_sequences(training_sentences)\n",
        "training_padded = pad_sequences(training_sequences, maxlen=max_length, padding=padding_type, truncating=trunc_type)\n",
        "\n",
        "testing_sequences = tokenizer.texts_to_sequences(testing_sentences)\n",
        "testing_padded = pad_sequences(testing_sequences, maxlen=max_length, padding=padding_type, truncating=trunc_type)"
      ],
      "execution_count": 8,
      "outputs": []
    },
    {
      "cell_type": "code",
      "metadata": {
        "id": "2F8g_YNbgJyQ"
      },
      "source": [
        "# convert to numpy\n",
        "\n",
        "training_padded = np.array(training_padded)\n",
        "training_labels = np.array(training_labels)\n",
        "\n",
        "testing_padded = np.array(testing_padded)\n",
        "testing_labels = np.array(testing_labels)"
      ],
      "execution_count": 10,
      "outputs": []
    },
    {
      "cell_type": "code",
      "metadata": {
        "id": "2AY2EGcIgabT"
      },
      "source": [
        "model = tf.keras.Sequential([\n",
        "                             tf.keras.layers.Embedding(vocab_size, embedding_dim, input_length=max_length),\n",
        "                             tf.keras.layers.GlobalAveragePooling1D(),\n",
        "                             tf.keras.layers.Dense(24, activation='relu'),\n",
        "                             tf.keras.layers.Dense(1, activation='sigmoid')\n",
        "])"
      ],
      "execution_count": 11,
      "outputs": []
    },
    {
      "cell_type": "code",
      "metadata": {
        "colab": {
          "base_uri": "https://localhost:8080/"
        },
        "id": "blIv4Mu5gr0u",
        "outputId": "ed194a2a-f8e1-48fb-a4ca-9cccb2af89dd"
      },
      "source": [
        "model.compile(loss='binary_crossentropy', optimizer='adam', metrics=['acc'])\n",
        "model.summary()"
      ],
      "execution_count": 12,
      "outputs": [
        {
          "output_type": "stream",
          "text": [
            "Model: \"sequential\"\n",
            "_________________________________________________________________\n",
            "Layer (type)                 Output Shape              Param #   \n",
            "=================================================================\n",
            "embedding (Embedding)        (None, 100, 16)           160000    \n",
            "_________________________________________________________________\n",
            "global_average_pooling1d (Gl (None, 16)                0         \n",
            "_________________________________________________________________\n",
            "dense (Dense)                (None, 24)                408       \n",
            "_________________________________________________________________\n",
            "dense_1 (Dense)              (None, 1)                 25        \n",
            "=================================================================\n",
            "Total params: 160,433\n",
            "Trainable params: 160,433\n",
            "Non-trainable params: 0\n",
            "_________________________________________________________________\n"
          ],
          "name": "stdout"
        }
      ]
    },
    {
      "cell_type": "code",
      "metadata": {
        "colab": {
          "base_uri": "https://localhost:8080/"
        },
        "id": "jAe3pma8gyB-",
        "outputId": "f6fe33ce-7726-423b-9479-705191eb43e0"
      },
      "source": [
        "history = model.fit(training_padded, training_labels, epochs = 30, validation_data=(testing_padded, testing_labels), verbose=2)"
      ],
      "execution_count": 13,
      "outputs": [
        {
          "output_type": "stream",
          "text": [
            "Epoch 1/30\n",
            "625/625 - 6s - loss: 0.6683 - acc: 0.5832 - val_loss: 0.6042 - val_acc: 0.6217\n",
            "Epoch 2/30\n",
            "625/625 - 2s - loss: 0.4546 - acc: 0.8199 - val_loss: 0.4044 - val_acc: 0.8188\n",
            "Epoch 3/30\n",
            "625/625 - 2s - loss: 0.3246 - acc: 0.8701 - val_loss: 0.3604 - val_acc: 0.8472\n",
            "Epoch 4/30\n",
            "625/625 - 2s - loss: 0.2705 - acc: 0.8952 - val_loss: 0.3474 - val_acc: 0.8527\n",
            "Epoch 5/30\n",
            "625/625 - 2s - loss: 0.2349 - acc: 0.9090 - val_loss: 0.3428 - val_acc: 0.8568\n",
            "Epoch 6/30\n",
            "625/625 - 2s - loss: 0.2077 - acc: 0.9207 - val_loss: 0.3442 - val_acc: 0.8539\n",
            "Epoch 7/30\n",
            "625/625 - 2s - loss: 0.1840 - acc: 0.9309 - val_loss: 0.3533 - val_acc: 0.8539\n",
            "Epoch 8/30\n",
            "625/625 - 2s - loss: 0.1660 - acc: 0.9380 - val_loss: 0.3642 - val_acc: 0.8545\n",
            "Epoch 9/30\n",
            "625/625 - 2s - loss: 0.1509 - acc: 0.9456 - val_loss: 0.3785 - val_acc: 0.8532\n",
            "Epoch 10/30\n",
            "625/625 - 2s - loss: 0.1361 - acc: 0.9515 - val_loss: 0.3958 - val_acc: 0.8501\n",
            "Epoch 11/30\n",
            "625/625 - 2s - loss: 0.1247 - acc: 0.9570 - val_loss: 0.4180 - val_acc: 0.8481\n",
            "Epoch 12/30\n",
            "625/625 - 2s - loss: 0.1136 - acc: 0.9605 - val_loss: 0.4348 - val_acc: 0.8477\n",
            "Epoch 13/30\n",
            "625/625 - 2s - loss: 0.1065 - acc: 0.9640 - val_loss: 0.4530 - val_acc: 0.8472\n",
            "Epoch 14/30\n",
            "625/625 - 2s - loss: 0.0962 - acc: 0.9672 - val_loss: 0.4868 - val_acc: 0.8389\n",
            "Epoch 15/30\n",
            "625/625 - 2s - loss: 0.0895 - acc: 0.9711 - val_loss: 0.5118 - val_acc: 0.8380\n",
            "Epoch 16/30\n",
            "625/625 - 2s - loss: 0.0830 - acc: 0.9729 - val_loss: 0.5384 - val_acc: 0.8350\n",
            "Epoch 17/30\n",
            "625/625 - 2s - loss: 0.0753 - acc: 0.9750 - val_loss: 0.5496 - val_acc: 0.8383\n",
            "Epoch 18/30\n",
            "625/625 - 2s - loss: 0.0694 - acc: 0.9780 - val_loss: 0.6091 - val_acc: 0.8286\n",
            "Epoch 19/30\n",
            "625/625 - 2s - loss: 0.0643 - acc: 0.9803 - val_loss: 0.6067 - val_acc: 0.8323\n",
            "Epoch 20/30\n",
            "625/625 - 2s - loss: 0.0590 - acc: 0.9814 - val_loss: 0.6370 - val_acc: 0.8305\n",
            "Epoch 21/30\n",
            "625/625 - 2s - loss: 0.0566 - acc: 0.9821 - val_loss: 0.6658 - val_acc: 0.8278\n",
            "Epoch 22/30\n",
            "625/625 - 2s - loss: 0.0506 - acc: 0.9851 - val_loss: 0.6993 - val_acc: 0.8264\n",
            "Epoch 23/30\n",
            "625/625 - 2s - loss: 0.0481 - acc: 0.9855 - val_loss: 0.7236 - val_acc: 0.8255\n",
            "Epoch 24/30\n",
            "625/625 - 2s - loss: 0.0436 - acc: 0.9872 - val_loss: 0.7666 - val_acc: 0.8228\n",
            "Epoch 25/30\n",
            "625/625 - 2s - loss: 0.0408 - acc: 0.9887 - val_loss: 0.7925 - val_acc: 0.8217\n",
            "Epoch 26/30\n",
            "625/625 - 2s - loss: 0.0377 - acc: 0.9887 - val_loss: 0.8222 - val_acc: 0.8225\n",
            "Epoch 27/30\n",
            "625/625 - 2s - loss: 0.0347 - acc: 0.9903 - val_loss: 0.9046 - val_acc: 0.8138\n",
            "Epoch 28/30\n",
            "625/625 - 2s - loss: 0.0319 - acc: 0.9916 - val_loss: 0.8877 - val_acc: 0.8180\n",
            "Epoch 29/30\n",
            "625/625 - 2s - loss: 0.0306 - acc: 0.9906 - val_loss: 0.9177 - val_acc: 0.8186\n",
            "Epoch 30/30\n",
            "625/625 - 2s - loss: 0.0288 - acc: 0.9919 - val_loss: 0.9646 - val_acc: 0.8128\n"
          ],
          "name": "stdout"
        }
      ]
    },
    {
      "cell_type": "code",
      "metadata": {
        "id": "NyUZ7MP9g8l_"
      },
      "source": [
        "def plot_graphs(history, string):\n",
        "  plt.plot(history.history[string])\n",
        "  plt.plot(history.history['val_'+string])\n",
        "  plt.xlabel('Epochs')\n",
        "  plt.ylabel(string)\n",
        "  plt.legend([string, 'val_'+string])\n",
        "  plt.show()\n",
        "\n",
        "  "
      ],
      "execution_count": 15,
      "outputs": []
    },
    {
      "cell_type": "code",
      "metadata": {
        "colab": {
          "base_uri": "https://localhost:8080/",
          "height": 279
        },
        "id": "lxPwYveWhTj5",
        "outputId": "08ccc830-e4fe-4fc8-9f24-dc5d84bc103a"
      },
      "source": [
        "plot_graphs(history, 'acc')\n"
      ],
      "execution_count": 16,
      "outputs": [
        {
          "output_type": "display_data",
          "data": {
            "image/png": "[encoded data removed]",
            "text/plain": [
              "<Figure size 432x288 with 1 Axes>"
            ]
          },
          "metadata": {
            "tags": [],
            "needs_background": "light"
          }
        }
      ]
    },
    {
      "cell_type": "code",
      "metadata": {
        "colab": {
          "base_uri": "https://localhost:8080/",
          "height": 281
        },
        "id": "IYijd97LhWuA",
        "outputId": "c6dc1d47-f276-4221-a703-1222a8591ef8"
      },
      "source": [
        "plot_graphs(history, 'loss')"
      ],
      "execution_count": 17,
      "outputs": [
        {
          "output_type": "display_data",
          "data": {
            "image/png": "[encoded data removed]",
            "text/plain": [
              "<Figure size 432x288 with 1 Axes>"
            ]
          },
          "metadata": {
            "tags": [],
            "needs_background": "light"
          }
        }
      ]
    },
    {
      "cell_type": "code",
      "metadata": {
        "id": "RjLnah5mhYuX"
      },
      "source": [
        "reverse_word_index = dict([(value, key) for (key, value) in word_index.items()])\n",
        "\n",
        "def decode_sentence(text):\n",
        "    return ' '.join([reverse_word_index.get(i, '?') for i in text])\n",
        "\n",
        "print(decode_sentence(training_padded[0]))\n",
        "print(training_sentences[2])\n",
        "print(labels[2])"
      ],
      "execution_count": null,
      "outputs": []
    },
    {
      "cell_type": "code",
      "metadata": {
        "id": "9mm7ACcehfXG"
      },
      "source": [
        "e = model.layers[0]\n",
        "weights = e.get_weights()[0]\n",
        "print(weights.shape) # shape: (vocab_size, embedding_dim)\n"
      ],
      "execution_count": null,
      "outputs": []
    },
    {
      "cell_type": "code",
      "metadata": {
        "id": "35DqN_kAhfTn"
      },
      "source": [
        "import io\n",
        "\n",
        "out_v = io.open('vecs.tsv', 'w', encoding='utf-8')\n",
        "out_m = io.open('meta.tsv', 'w', encoding='utf-8')\n",
        "for word_num in range(1, vocab_size):\n",
        "  word = reverse_word_index[word_num]\n",
        "  embeddings = weights[word_num]\n",
        "  out_m.write(word + \"\\n\")\n",
        "  out_v.write('\\t'.join([str(x) for x in embeddings]) + \"\\n\")\n",
        "out_v.close()\n",
        "out_m.close()"
      ],
      "execution_count": null,
      "outputs": []
    },
    {
      "cell_type": "code",
      "metadata": {
        "id": "BKGQWe6nhfQn"
      },
      "source": [
        "sentence = [\"granny starting to fear spiders in the garden might be real\", \"game of thrones season finale showing this sunday night\"]\n",
        "sequences = tokenizer.texts_to_sequences(sentence)\n",
        "padded = pad_sequences(sequences, maxlen=max_length, padding=padding_type, truncating=trunc_type)\n",
        "print(model.predict(padded))"
      ],
      "execution_count": null,
      "outputs": []
    }
  ]
}